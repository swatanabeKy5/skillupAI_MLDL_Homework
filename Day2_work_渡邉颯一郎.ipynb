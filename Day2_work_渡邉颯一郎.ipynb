{
 "cells": [
  {
   "cell_type": "markdown",
   "metadata": {},
   "source": [
    "### 通し課題1 Kickstar Ploject"
   ]
  },
  {
   "cell_type": "code",
   "execution_count": 1,
   "metadata": {},
   "outputs": [],
   "source": [
    "%matplotlib inline\n",
    "import pandas as pd\n",
    "import numpy as np\n",
    "import matplotlib.pyplot as plt\n",
    "from sklearn.linear_model import SGDClassifier\n",
    "from sklearn.metrics import log_loss, accuracy_score, confusion_matrix\n",
    "from sklearn.metrics import mean_squared_error, mean_absolute_error\n",
    "from sklearn.metrics import precision_recall_fscore_support\n",
    "import datetime\n",
    "import seaborn as sns\n",
    "import plotly.offline as py\n",
    "import plotly.graph_objs as go\n",
    "import cufflinks as cf"
   ]
  },
  {
   "cell_type": "code",
   "execution_count": 2,
   "metadata": {},
   "outputs": [
    {
     "data": {
      "text/html": [
       "<div>\n",
       "<style scoped>\n",
       "    .dataframe tbody tr th:only-of-type {\n",
       "        vertical-align: middle;\n",
       "    }\n",
       "\n",
       "    .dataframe tbody tr th {\n",
       "        vertical-align: top;\n",
       "    }\n",
       "\n",
       "    .dataframe thead th {\n",
       "        text-align: right;\n",
       "    }\n",
       "</style>\n",
       "<table border=\"1\" class=\"dataframe\">\n",
       "  <thead>\n",
       "    <tr style=\"text-align: right;\">\n",
       "      <th></th>\n",
       "      <th>ID</th>\n",
       "      <th>name</th>\n",
       "      <th>category</th>\n",
       "      <th>main_category</th>\n",
       "      <th>currency</th>\n",
       "      <th>deadline</th>\n",
       "      <th>goal</th>\n",
       "      <th>launched</th>\n",
       "      <th>pledged</th>\n",
       "      <th>state</th>\n",
       "      <th>backers</th>\n",
       "      <th>country</th>\n",
       "      <th>usd pledged</th>\n",
       "      <th>usd_pledged_real</th>\n",
       "      <th>usd_goal_real</th>\n",
       "    </tr>\n",
       "  </thead>\n",
       "  <tbody>\n",
       "    <tr>\n",
       "      <th>0</th>\n",
       "      <td>1000002330</td>\n",
       "      <td>The Songs of Adelaide &amp; Abullah</td>\n",
       "      <td>Poetry</td>\n",
       "      <td>Publishing</td>\n",
       "      <td>GBP</td>\n",
       "      <td>2015-10-09</td>\n",
       "      <td>1000.0</td>\n",
       "      <td>2015-08-11 12:12:28</td>\n",
       "      <td>0.0</td>\n",
       "      <td>failed</td>\n",
       "      <td>0</td>\n",
       "      <td>GB</td>\n",
       "      <td>0.0</td>\n",
       "      <td>0.0</td>\n",
       "      <td>1533.95</td>\n",
       "    </tr>\n",
       "    <tr>\n",
       "      <th>1</th>\n",
       "      <td>1000003930</td>\n",
       "      <td>Greeting From Earth: ZGAC Arts Capsule For ET</td>\n",
       "      <td>Narrative Film</td>\n",
       "      <td>Film &amp; Video</td>\n",
       "      <td>USD</td>\n",
       "      <td>2017-11-01</td>\n",
       "      <td>30000.0</td>\n",
       "      <td>2017-09-02 04:43:57</td>\n",
       "      <td>2421.0</td>\n",
       "      <td>failed</td>\n",
       "      <td>15</td>\n",
       "      <td>US</td>\n",
       "      <td>100.0</td>\n",
       "      <td>2421.0</td>\n",
       "      <td>30000.00</td>\n",
       "    </tr>\n",
       "    <tr>\n",
       "      <th>2</th>\n",
       "      <td>1000004038</td>\n",
       "      <td>Where is Hank?</td>\n",
       "      <td>Narrative Film</td>\n",
       "      <td>Film &amp; Video</td>\n",
       "      <td>USD</td>\n",
       "      <td>2013-02-26</td>\n",
       "      <td>45000.0</td>\n",
       "      <td>2013-01-12 00:20:50</td>\n",
       "      <td>220.0</td>\n",
       "      <td>failed</td>\n",
       "      <td>3</td>\n",
       "      <td>US</td>\n",
       "      <td>220.0</td>\n",
       "      <td>220.0</td>\n",
       "      <td>45000.00</td>\n",
       "    </tr>\n",
       "    <tr>\n",
       "      <th>3</th>\n",
       "      <td>1000007540</td>\n",
       "      <td>ToshiCapital Rekordz Needs Help to Complete Album</td>\n",
       "      <td>Music</td>\n",
       "      <td>Music</td>\n",
       "      <td>USD</td>\n",
       "      <td>2012-04-16</td>\n",
       "      <td>5000.0</td>\n",
       "      <td>2012-03-17 03:24:11</td>\n",
       "      <td>1.0</td>\n",
       "      <td>failed</td>\n",
       "      <td>1</td>\n",
       "      <td>US</td>\n",
       "      <td>1.0</td>\n",
       "      <td>1.0</td>\n",
       "      <td>5000.00</td>\n",
       "    </tr>\n",
       "    <tr>\n",
       "      <th>4</th>\n",
       "      <td>1000011046</td>\n",
       "      <td>Community Film Project: The Art of Neighborhoo...</td>\n",
       "      <td>Film &amp; Video</td>\n",
       "      <td>Film &amp; Video</td>\n",
       "      <td>USD</td>\n",
       "      <td>2015-08-29</td>\n",
       "      <td>19500.0</td>\n",
       "      <td>2015-07-04 08:35:03</td>\n",
       "      <td>1283.0</td>\n",
       "      <td>canceled</td>\n",
       "      <td>14</td>\n",
       "      <td>US</td>\n",
       "      <td>1283.0</td>\n",
       "      <td>1283.0</td>\n",
       "      <td>19500.00</td>\n",
       "    </tr>\n",
       "  </tbody>\n",
       "</table>\n",
       "</div>"
      ],
      "text/plain": [
       "           ID                                               name  \\\n",
       "0  1000002330                    The Songs of Adelaide & Abullah   \n",
       "1  1000003930      Greeting From Earth: ZGAC Arts Capsule For ET   \n",
       "2  1000004038                                     Where is Hank?   \n",
       "3  1000007540  ToshiCapital Rekordz Needs Help to Complete Album   \n",
       "4  1000011046  Community Film Project: The Art of Neighborhoo...   \n",
       "\n",
       "         category main_category currency    deadline     goal  \\\n",
       "0          Poetry    Publishing      GBP  2015-10-09   1000.0   \n",
       "1  Narrative Film  Film & Video      USD  2017-11-01  30000.0   \n",
       "2  Narrative Film  Film & Video      USD  2013-02-26  45000.0   \n",
       "3           Music         Music      USD  2012-04-16   5000.0   \n",
       "4    Film & Video  Film & Video      USD  2015-08-29  19500.0   \n",
       "\n",
       "              launched  pledged     state  backers country  usd pledged  \\\n",
       "0  2015-08-11 12:12:28      0.0    failed        0      GB          0.0   \n",
       "1  2017-09-02 04:43:57   2421.0    failed       15      US        100.0   \n",
       "2  2013-01-12 00:20:50    220.0    failed        3      US        220.0   \n",
       "3  2012-03-17 03:24:11      1.0    failed        1      US          1.0   \n",
       "4  2015-07-04 08:35:03   1283.0  canceled       14      US       1283.0   \n",
       "\n",
       "   usd_pledged_real  usd_goal_real  \n",
       "0               0.0        1533.95  \n",
       "1            2421.0       30000.00  \n",
       "2             220.0       45000.00  \n",
       "3               1.0        5000.00  \n",
       "4            1283.0       19500.00  "
      ]
     },
     "execution_count": 2,
     "metadata": {},
     "output_type": "execute_result"
    }
   ],
   "source": [
    "df_ks0 = pd.read_csv(\"kickstarter-projects/ks-projects-201801.csv\")\n",
    "df_ks0.head()"
   ]
  },
  {
   "cell_type": "code",
   "execution_count": 3,
   "metadata": {},
   "outputs": [
    {
     "name": "stdout",
     "output_type": "stream",
     "text": [
      "   state        category main_category currency country  usd pledged  \\\n",
      "0      0          Poetry    Publishing      GBP      GB          0.0   \n",
      "1      0  Narrative Film  Film & Video      USD      US        100.0   \n",
      "2      0  Narrative Film  Film & Video      USD      US        220.0   \n",
      "3      0           Music         Music      USD      US          1.0   \n",
      "5      1     Restaurants          Food      USD      US      52375.0   \n",
      "\n",
      "   usd_goal_real  delta  \n",
      "0        1533.95     58  \n",
      "1       30000.00     59  \n",
      "2       45000.00     44  \n",
      "3        5000.00     29  \n",
      "5       50000.00     34  \n",
      "state              0\n",
      "category           0\n",
      "main_category      0\n",
      "currency           0\n",
      "country            0\n",
      "usd pledged      210\n",
      "usd_goal_real      0\n",
      "delta              0\n",
      "dtype: int64\n",
      "state            331675\n",
      "category         331675\n",
      "main_category    331675\n",
      "currency         331675\n",
      "country          331675\n",
      "usd pledged      331465\n",
      "usd_goal_real    331675\n",
      "delta            331675\n",
      "dtype: int64\n"
     ]
    }
   ],
   "source": [
    "#必要そうな列だけcsv読み込む\n",
    "df_ks = pd.read_csv(\"kickstarter-projects/ks-projects-201801.csv\")[[ 'state', 'category', 'main_category', 'currency', 'country', 'usd pledged', 'usd_goal_real', 'deadline', 'launched']]\n",
    "\n",
    "#KSのlaunched、deadlineから開催期間(日数)を計算する\n",
    "#文字列をdatetime型に変換\n",
    "#df_ks['launched'] = datetime.datetime.strptime(df_ks['launched'], '%Y/%m/%d %H:%M') \n",
    "#df_ks['deadline'] = datetime.datetime.strptime(df_ks['deadline'], '%Y/%m/%d')\n",
    "df_ks['launched'] = pd.to_datetime(df_ks['launched']) \n",
    "df_ks['deadline'] = pd.to_datetime(df_ks['deadline'])\n",
    "\n",
    "#期間を計算\n",
    "df_ks['delta'] = (df_ks['deadline'] - df_ks['launched']).apply(lambda x: x.days)\n",
    "#こっちだとエラー出た\n",
    "#df_ks['delta'] = datetime.datetime.strptime(df_ks['launched'], '%d %H:%M:%S')\n",
    "#.apply(~がないとerror起こす。配列には適用できない？\n",
    "#print(df_ks['delta'].days)\n",
    "\n",
    "#launch, deadline削除\n",
    "df_ks = df_ks.drop(columns=['launched', 'deadline'])\n",
    "#stateがsuccessfulとfailed以外のもの削除\n",
    "df_ks = df_ks.query('state == [\"successful\", \"failed\"]')\n",
    "\n",
    "#stateの列を数字に置き換え(failedを0、successfulを1)\n",
    "for df in [df_ks]:    \n",
    "    df.loc[df['state']=='failed', \"state\"]=0\n",
    "    df.loc[df['state']=='successful', \"state\"]=1\n",
    "\n",
    "print(df_ks.head())\n",
    "#欠損値がないか確認\n",
    "print(df_ks.isnull().sum())\n",
    "print(df_ks.notnull().sum())"
   ]
  },
  {
   "cell_type": "code",
   "execution_count": 4,
   "metadata": {},
   "outputs": [],
   "source": [
    "#usd pledged の欠損値を埋める\n",
    "df_ks['usd pledged'] = df_ks['usd pledged'].fillna(\"0\")"
   ]
  },
  {
   "cell_type": "code",
   "execution_count": 5,
   "metadata": {},
   "outputs": [
    {
     "name": "stdout",
     "output_type": "stream",
     "text": [
      "   state        category main_category currency country usd pledged  \\\n",
      "0      0          Poetry    Publishing      GBP      GB           0   \n",
      "1      0  Narrative Film  Film & Video      USD      US         100   \n",
      "2      0  Narrative Film  Film & Video      USD      US         220   \n",
      "3      0           Music         Music      USD      US           1   \n",
      "5      1     Restaurants          Food      USD      US       52375   \n",
      "\n",
      "   usd_goal_real  delta  goal_band  \n",
      "0        1533.95     58          0  \n",
      "1       30000.00     59          5  \n",
      "2       45000.00     44          5  \n",
      "3        5000.00     29          1  \n",
      "5       50000.00     34          5  \n"
     ]
    },
    {
     "data": {
      "image/png": "[encoded data removed]",
      "text/plain": [
       "<Figure size 432x288 with 1 Axes>"
      ]
     },
     "metadata": {
      "needs_background": "light"
     },
     "output_type": "display_data"
    }
   ],
   "source": [
    "#とりあえず定量的な値はusd pledged,goalとdeltaだけなのでこれらを使う。\n",
    "#goalの分布\n",
    "data = df_ks['usd_goal_real']\n",
    "plt.hist(data, range=(0, 100000), bins=25);\n",
    "plt.hist(data, range=(0, 50000), bins=25);\n",
    "plt.hist(data, range=(0, 10000), bins=10);\n",
    "\n",
    "#goalを金額で7つに分類\n",
    "for df in [df_ks]:\n",
    "    df['goal_band'] = pd.cut(df.usd_goal_real, [0, 2500, 5000, 7500, 10000, 20000, 50000, 1000000000000], labels=False)\n",
    "\n",
    "print(df_ks.head())"
   ]
  },
  {
   "cell_type": "code",
   "execution_count": 6,
   "metadata": {},
   "outputs": [
    {
     "data": {
      "image/png": "[encoded data removed]",
      "text/plain": [
       "<Figure size 432x288 with 1 Axes>"
      ]
     },
     "metadata": {
      "needs_background": "light"
     },
     "output_type": "display_data"
    }
   ],
   "source": [
    "plt.hist(df_ks['goal_band'], range=(0, 7), bins=10);"
   ]
  },
  {
   "cell_type": "code",
   "execution_count": 7,
   "metadata": {},
   "outputs": [
    {
     "data": {
      "text/html": [
       "<div>\n",
       "<style scoped>\n",
       "    .dataframe tbody tr th:only-of-type {\n",
       "        vertical-align: middle;\n",
       "    }\n",
       "\n",
       "    .dataframe tbody tr th {\n",
       "        vertical-align: top;\n",
       "    }\n",
       "\n",
       "    .dataframe thead th {\n",
       "        text-align: right;\n",
       "    }\n",
       "</style>\n",
       "<table border=\"1\" class=\"dataframe\">\n",
       "  <thead>\n",
       "    <tr style=\"text-align: right;\">\n",
       "      <th></th>\n",
       "      <th>state</th>\n",
       "      <th>category</th>\n",
       "      <th>main_category</th>\n",
       "      <th>currency</th>\n",
       "      <th>country</th>\n",
       "      <th>usd pledged</th>\n",
       "      <th>usd_goal_real</th>\n",
       "      <th>delta</th>\n",
       "      <th>goal_band</th>\n",
       "    </tr>\n",
       "  </thead>\n",
       "  <tbody>\n",
       "    <tr>\n",
       "      <th>0</th>\n",
       "      <td>0</td>\n",
       "      <td>Poetry</td>\n",
       "      <td>Publishing</td>\n",
       "      <td>GBP</td>\n",
       "      <td>GB</td>\n",
       "      <td>0</td>\n",
       "      <td>1533.95</td>\n",
       "      <td>58</td>\n",
       "      <td>0</td>\n",
       "    </tr>\n",
       "    <tr>\n",
       "      <th>1</th>\n",
       "      <td>0</td>\n",
       "      <td>Narrative Film</td>\n",
       "      <td>Film &amp; Video</td>\n",
       "      <td>USD</td>\n",
       "      <td>US</td>\n",
       "      <td>100</td>\n",
       "      <td>30000.00</td>\n",
       "      <td>59</td>\n",
       "      <td>5</td>\n",
       "    </tr>\n",
       "    <tr>\n",
       "      <th>2</th>\n",
       "      <td>0</td>\n",
       "      <td>Narrative Film</td>\n",
       "      <td>Film &amp; Video</td>\n",
       "      <td>USD</td>\n",
       "      <td>US</td>\n",
       "      <td>220</td>\n",
       "      <td>45000.00</td>\n",
       "      <td>44</td>\n",
       "      <td>5</td>\n",
       "    </tr>\n",
       "    <tr>\n",
       "      <th>3</th>\n",
       "      <td>0</td>\n",
       "      <td>Music</td>\n",
       "      <td>Music</td>\n",
       "      <td>USD</td>\n",
       "      <td>US</td>\n",
       "      <td>1</td>\n",
       "      <td>5000.00</td>\n",
       "      <td>29</td>\n",
       "      <td>1</td>\n",
       "    </tr>\n",
       "    <tr>\n",
       "      <th>5</th>\n",
       "      <td>1</td>\n",
       "      <td>Restaurants</td>\n",
       "      <td>Food</td>\n",
       "      <td>USD</td>\n",
       "      <td>US</td>\n",
       "      <td>52375</td>\n",
       "      <td>50000.00</td>\n",
       "      <td>34</td>\n",
       "      <td>5</td>\n",
       "    </tr>\n",
       "  </tbody>\n",
       "</table>\n",
       "</div>"
      ],
      "text/plain": [
       "   state        category main_category currency country usd pledged  \\\n",
       "0      0          Poetry    Publishing      GBP      GB           0   \n",
       "1      0  Narrative Film  Film & Video      USD      US         100   \n",
       "2      0  Narrative Film  Film & Video      USD      US         220   \n",
       "3      0           Music         Music      USD      US           1   \n",
       "5      1     Restaurants          Food      USD      US       52375   \n",
       "\n",
       "   usd_goal_real  delta  goal_band  \n",
       "0        1533.95     58          0  \n",
       "1       30000.00     59          5  \n",
       "2       45000.00     44          5  \n",
       "3        5000.00     29          1  \n",
       "5       50000.00     34          5  "
      ]
     },
     "execution_count": 7,
     "metadata": {},
     "output_type": "execute_result"
    }
   ],
   "source": [
    "df_ks.head()"
   ]
  },
  {
   "cell_type": "code",
   "execution_count": 8,
   "metadata": {},
   "outputs": [
    {
     "name": "stdout",
     "output_type": "stream",
     "text": [
      "               state  usd_goal_real          delta      goal_band\n",
      "count  331675.000000   3.316750e+05  331675.000000  331675.000000\n",
      "mean        0.403877   4.151000e+04      32.954902       2.167501\n",
      "std         0.490674   1.108930e+06      12.713329       2.047758\n",
      "min         0.000000   1.000000e-02       0.000000       0.000000\n",
      "25%         0.000000   2.000000e+03      29.000000       0.000000\n",
      "50%         0.000000   5.000000e+03      29.000000       1.000000\n",
      "75%         1.000000   1.500000e+04      35.000000       4.000000\n",
      "max         1.000000   1.663614e+08      91.000000       6.000000\n"
     ]
    }
   ],
   "source": [
    "print(df_ks.describe())"
   ]
  },
  {
   "cell_type": "code",
   "execution_count": 9,
   "metadata": {},
   "outputs": [
    {
     "name": "stdout",
     "output_type": "stream",
     "text": [
      "w0 = 443.225, w1 = 31.967, w2 = -25819.412\n"
     ]
    }
   ],
   "source": [
    "#説明変数を3つに絞ってロジスティック回帰\n",
    "y = df_ks[\"state\"].values\n",
    "X = df_ks[[\"usd pledged\",\"goal_band\", \"delta\"]].values\n",
    "clf = SGDClassifier(loss='log', penalty='none', max_iter=100000, fit_intercept=True, random_state=1234, tol=1e-3)\n",
    "clf.fit(X, y)\n",
    "\n",
    "# 重みを取得して表示\n",
    "w0 = clf.intercept_[0]\n",
    "w1 = clf.coef_[0, 0]\n",
    "w2 = clf.coef_[0, 1]\n",
    "print(\"w0 = {:.3f}, w1 = {:.3f}, w2 = {:.3f}\".format(w0, w1, w2))\n"
   ]
  },
  {
   "cell_type": "code",
   "execution_count": 10,
   "metadata": {},
   "outputs": [
    {
     "name": "stdout",
     "output_type": "stream",
     "text": [
      "対数尤度 = -5.074\n",
      "正答率 = 85.308%\n"
     ]
    }
   ],
   "source": [
    "# ラベルを予測\n",
    "y_pred = clf.predict(X)\n",
    "\n",
    "# 対数尤度を表示\n",
    "print('対数尤度 = {:.3f}'.format(- log_loss(y, y_pred)))\n",
    "\n",
    "# 正答率を表示\n",
    "print('正答率 = {:.3f}%'.format(100 * accuracy_score(y, y_pred)))"
   ]
  },
  {
   "cell_type": "code",
   "execution_count": 11,
   "metadata": {},
   "outputs": [
    {
     "name": "stdout",
     "output_type": "stream",
     "text": [
      "正答率（Accuracy） = 85.308%\n",
      "適合率（Precision） = 83.321%\n",
      "再現率（Recall） = 94.214%\n",
      "F1値（F1-score） = 88.433%\n"
     ]
    }
   ],
   "source": [
    "# 正答率を計算\n",
    "accuracy =  accuracy_score(y, y_pred)\n",
    "print('正答率（Accuracy） = {:.3f}%'.format(100 * accuracy))\n",
    "\n",
    "# Precision, Recall, F1-scoreを計算\n",
    "precision, recall, f1_score, _ = precision_recall_fscore_support(y, y_pred)\n",
    "\n",
    "# カテゴリ「」に関するPrecision, Recall, F1-scoreを表示\n",
    "print('適合率（Precision） = {:.3f}%'.format(100 * precision[0]))\n",
    "print('再現率（Recall） = {:.3f}%'.format(100 * recall[0]))\n",
    "print('F1値（F1-score） = {:.3f}%'.format(100 * f1_score[0]))"
   ]
  },
  {
   "cell_type": "code",
   "execution_count": 12,
   "metadata": {},
   "outputs": [
    {
     "data": {
      "text/html": [
       "<div>\n",
       "<style scoped>\n",
       "    .dataframe tbody tr th:only-of-type {\n",
       "        vertical-align: middle;\n",
       "    }\n",
       "\n",
       "    .dataframe tbody tr th {\n",
       "        vertical-align: top;\n",
       "    }\n",
       "\n",
       "    .dataframe thead th {\n",
       "        text-align: right;\n",
       "    }\n",
       "</style>\n",
       "<table border=\"1\" class=\"dataframe\">\n",
       "  <thead>\n",
       "    <tr style=\"text-align: right;\">\n",
       "      <th></th>\n",
       "      <th>予測 = failed</th>\n",
       "      <th>予測 = successful</th>\n",
       "    </tr>\n",
       "  </thead>\n",
       "  <tbody>\n",
       "    <tr>\n",
       "      <th>正解 = failed</th>\n",
       "      <td>186278</td>\n",
       "      <td>11441</td>\n",
       "    </tr>\n",
       "    <tr>\n",
       "      <th>正解 = successful</th>\n",
       "      <td>37289</td>\n",
       "      <td>96667</td>\n",
       "    </tr>\n",
       "  </tbody>\n",
       "</table>\n",
       "</div>"
      ],
      "text/plain": [
       "                 予測 = failed  予測 = successful\n",
       "正解 = failed           186278            11441\n",
       "正解 = successful        37289            96667"
      ]
     },
     "execution_count": 12,
     "metadata": {},
     "output_type": "execute_result"
    }
   ],
   "source": [
    "# 予測値と正解のクロス集計\n",
    "conf_mat = pd.DataFrame(confusion_matrix(y, y_pred), \n",
    "                        index=['正解 = failed', '正解 = successful'], \n",
    "                        columns=['予測 = failed', '予測 = successful'])\n",
    "conf_mat"
   ]
  },
  {
   "cell_type": "code",
   "execution_count": 13,
   "metadata": {},
   "outputs": [],
   "source": [
    "#Day2\n",
    "from sklearn.model_selection import train_test_split # ホールドアウト法に関する関数\n",
    "from sklearn.model_selection import KFold # 交差検証法に関する関数\n",
    "from sklearn.metrics import mean_absolute_error # 回帰問題における性能評価に関する関数"
   ]
  },
  {
   "cell_type": "code",
   "execution_count": 14,
   "metadata": {},
   "outputs": [],
   "source": [
    "#　ホールドアウト法\n",
    "# 全データのうち、何%をテストデータにするか（今回は20%に設定\n",
    "test_size = 0.3      \n",
    "# ホールドアウト法を実行（テストデータはランダム選択）\n",
    "X_train, X_test, y_train, y_test = train_test_split(X, y, test_size=test_size, random_state=1234)"
   ]
  },
  {
   "cell_type": "code",
   "execution_count": 15,
   "metadata": {},
   "outputs": [
    {
     "name": "stdout",
     "output_type": "stream",
     "text": [
      "w0 = 420.047, w1 = 66.366, w2 = -26173.264\n",
      "対数尤度 = -4.998\n",
      "正答率（Accuracy） = 85.528%\n",
      "適合率（Precision） = 90.436%\n",
      "再現率（Recall） = 84.653%\n",
      "F1値（F1-score） = 87.449%\n"
     ]
    }
   ],
   "source": [
    "# 学習用データを使ってロジスティック回帰モデルを学習\n",
    "clf2 = SGDClassifier(loss='log', penalty='none', max_iter=100000, fit_intercept=True, random_state=1234, tol=1e-3)\n",
    "clf2.fit(X_train, y_train)\n",
    "\n",
    "# 重みを取得して表示\n",
    "w0 = clf2.intercept_[0]\n",
    "w1 = clf2.coef_[0, 0]\n",
    "w2 = clf2.coef_[0, 1]\n",
    "print(\"w0 = {:.3f}, w1 = {:.3f}, w2 = {:.3f}\".format(w0, w1, w2))\n",
    "\n",
    "# 学習用データに対する予測を実行\n",
    "y_pred_train = clf2.predict(X_train)\n",
    "\n",
    "# 対数尤度を表示\n",
    "print('対数尤度 = {:.3f}'.format(- log_loss(y_train, y_pred_train)))\n",
    "\n",
    "# 正答率を計算\n",
    "accuracy =  accuracy_score(y_train, y_pred_train)\n",
    "print('正答率（Accuracy） = {:.3f}%'.format(100 * accuracy))\n",
    "\n",
    "# Precision, Recall, F1-scoreを計算\n",
    "precision, recall, f1_score, _ = precision_recall_fscore_support(y_train, y_pred_train)\n",
    "\n",
    "# カテゴリ「2000万以上」に関するPrecision, Recall, F1-scoreを表示\n",
    "print('適合率（Precision） = {:.3f}%'.format(100 * precision[0]))\n",
    "print('再現率（Recall） = {:.3f}%'.format(100 * recall[0]))\n",
    "print('F1値（F1-score） = {:.3f}%'.format(100 * f1_score[0]))"
   ]
  },
  {
   "cell_type": "code",
   "execution_count": 23,
   "metadata": {},
   "outputs": [
    {
     "name": "stdout",
     "output_type": "stream",
     "text": [
      "Fold 1\n",
      "対数尤度 = -4.210\n",
      "正答率（Accuracy） = 87.812%\n",
      "Fold 2\n",
      "対数尤度 = -3.902\n",
      "正答率（Accuracy） = 88.703%\n",
      "Fold 3\n",
      "対数尤度 = -3.499\n",
      "正答率（Accuracy） = 89.870%\n",
      "Fold 4\n",
      "対数尤度 = -4.547\n",
      "正答率（Accuracy） = 86.835%\n",
      "Fold 5\n",
      "対数尤度 = -4.467\n",
      "正答率（Accuracy） = 87.067%\n",
      "対数尤度 = -4.125\n",
      "正答率（Accuracy） = 88.057%\n"
     ]
    },
    {
     "ename": "TypeError",
     "evalue": "unsupported format string passed to numpy.ndarray.__format__",
     "output_type": "error",
     "traceback": [
      "\u001b[1;31m---------------------------------------------------------------------------\u001b[0m",
      "\u001b[1;31mTypeError\u001b[0m                                 Traceback (most recent call last)",
      "\u001b[1;32m<ipython-input-23-4459a0e4da40>\u001b[0m in \u001b[0;36m<module>\u001b[1;34m\u001b[0m\n\u001b[0;32m     50\u001b[0m \u001b[0mprint\u001b[0m\u001b[1;33m(\u001b[0m\u001b[1;34m'対数尤度 = {:.3f}'\u001b[0m\u001b[1;33m.\u001b[0m\u001b[0mformat\u001b[0m\u001b[1;33m(\u001b[0m\u001b[0mfinal_logloss\u001b[0m\u001b[1;33m)\u001b[0m\u001b[1;33m)\u001b[0m\u001b[1;33m\u001b[0m\u001b[1;33m\u001b[0m\u001b[0m\n\u001b[0;32m     51\u001b[0m \u001b[0mprint\u001b[0m\u001b[1;33m(\u001b[0m\u001b[1;34m'正答率（Accuracy） = {:.3f}%'\u001b[0m\u001b[1;33m.\u001b[0m\u001b[0mformat\u001b[0m\u001b[1;33m(\u001b[0m\u001b[1;36m100\u001b[0m \u001b[1;33m*\u001b[0m \u001b[0mfinal_accuracy\u001b[0m\u001b[1;33m)\u001b[0m\u001b[1;33m)\u001b[0m\u001b[1;33m\u001b[0m\u001b[1;33m\u001b[0m\u001b[0m\n\u001b[1;32m---> 52\u001b[1;33m \u001b[0mprint\u001b[0m\u001b[1;33m(\u001b[0m\u001b[1;34m'適合率（Precision） = {:.3f}%'\u001b[0m\u001b[1;33m.\u001b[0m\u001b[0mformat\u001b[0m\u001b[1;33m(\u001b[0m\u001b[1;36m100\u001b[0m \u001b[1;33m*\u001b[0m \u001b[0mfinal_precision\u001b[0m\u001b[1;33m)\u001b[0m\u001b[1;33m)\u001b[0m\u001b[1;33m\u001b[0m\u001b[1;33m\u001b[0m\u001b[0m\n\u001b[0m\u001b[0;32m     53\u001b[0m \u001b[0mprint\u001b[0m\u001b[1;33m(\u001b[0m\u001b[1;34m'再現率（Recall） = {:.3f}%'\u001b[0m\u001b[1;33m.\u001b[0m\u001b[0mformat\u001b[0m\u001b[1;33m(\u001b[0m\u001b[1;36m100\u001b[0m \u001b[1;33m*\u001b[0m \u001b[0mfinal_recall\u001b[0m\u001b[1;33m)\u001b[0m\u001b[1;33m)\u001b[0m\u001b[1;33m\u001b[0m\u001b[1;33m\u001b[0m\u001b[0m\n\u001b[0;32m     54\u001b[0m \u001b[0mprint\u001b[0m\u001b[1;33m(\u001b[0m\u001b[1;34m'F1値（F1-score） = {:.3f}%'\u001b[0m\u001b[1;33m.\u001b[0m\u001b[0mformat\u001b[0m\u001b[1;33m(\u001b[0m\u001b[1;36m100\u001b[0m \u001b[1;33m*\u001b[0m \u001b[0mfinal_f1_score\u001b[0m\u001b[1;33m)\u001b[0m\u001b[1;33m)\u001b[0m\u001b[1;33m\u001b[0m\u001b[1;33m\u001b[0m\u001b[0m\n",
      "\u001b[1;31mTypeError\u001b[0m: unsupported format string passed to numpy.ndarray.__format__"
     ]
    }
   ],
   "source": [
    "# 交差検証法\n",
    "n_split = 5 # グループ数を設定（今回は5分割）\n",
    "\n",
    "cross_valid_logloss = 0\n",
    "cross_valid_accuracy = 0\n",
    "cross_valid_precision = 0\n",
    "cross_valid_recall = 0\n",
    "cross_valid_f1_score = 0\n",
    "split_num = 1\n",
    "\n",
    "# テスト役を交代させながら学習と評価を繰り返す\n",
    "for train_idx, test_idx in KFold(n_splits=n_split, shuffle=True, random_state=1234).split(X, y):\n",
    "    X_train, y_train = X[train_idx], y[train_idx] #学習用データ\n",
    "    X_test, y_test = X[test_idx], y[test_idx]     #テスト用データ\n",
    "    \n",
    "    # 学習用データを使ってロジスティック回帰モデルを学習\n",
    "    clf2 = SGDClassifier(loss='log', penalty='none', max_iter=100000, fit_intercept=True, random_state=1234, tol=1e-3)\n",
    "    clf2.fit(X_train, y_train)\n",
    "\n",
    "    # テストデータに対する予測を実行\n",
    "    y_pred_test = clf2.predict(X_test)\n",
    "    \n",
    "    # 対数尤度を表示\n",
    "    logloss = - log_loss(y_test, y_pred_test)\n",
    "    print(\"Fold %s\"%split_num)\n",
    "    print('対数尤度 = {:.3f}'.format(logloss))\n",
    "\n",
    "    # 正答率を計算\n",
    "    accuracy =  accuracy_score(y_test, y_pred_test)\n",
    "    print('正答率（Accuracy） = {:.3f}%'.format(100 * accuracy))\n",
    "\n",
    "    # Precision, Recall, F1-scoreを計算\n",
    "    precision, recall, f1_score, _ = precision_recall_fscore_support(y_test, y_pred_test)\n",
    "\n",
    "    \n",
    "    #後で平均を取るために加算\n",
    "    cross_valid_logloss += logloss\n",
    "    cross_valid_accuracy += accuracy \n",
    "    cross_valid_precision += precision \n",
    "    cross_valid_recall += recall \n",
    "    cross_valid_f1_score += f1_score \n",
    "    split_num += 1\n",
    "\n",
    "# 平均値を最終的な汎化誤差値とする\n",
    "final_logloss = cross_valid_logloss / n_split\n",
    "final_accuracy = cross_valid_accuracy / n_split\n",
    "final_precision = cross_valid_precision / n_split\n",
    "final_recall = cross_valid_recall / n_split\n",
    "final_f1_score = cross_valid_f1_score / n_split\n",
    "print('対数尤度 = {:.3f}'.format(final_logloss))\n",
    "print('正答率（Accuracy） = {:.3f}%'.format(100 * final_accuracy))\n",
    "print('適合率（Precision） = {:.3f}%'.format(100 * final_precision))\n",
    "print('再現率（Recall） = {:.3f}%'.format(100 * final_recall))\n",
    "print('F1値（F1-score） = {:.3f}%'.format(100 * final_f1_score))"
   ]
  },
  {
   "cell_type": "code",
   "execution_count": 24,
   "metadata": {},
   "outputs": [
    {
     "data": {
      "text/plain": [
       "numpy.float64"
      ]
     },
     "execution_count": 24,
     "metadata": {},
     "output_type": "execute_result"
    }
   ],
   "source": []
  },
  {
   "cell_type": "code",
   "execution_count": null,
   "metadata": {},
   "outputs": [],
   "source": []
  }
 ],
 "metadata": {
  "kernelspec": {
   "display_name": "Python 3",
   "language": "python",
   "name": "python3"
  },
  "language_info": {
   "codemirror_mode": {
    "name": "ipython",
    "version": 3
   },
   "file_extension": ".py",
   "mimetype": "text/x-python",
   "name": "python",
   "nbconvert_exporter": "python",
   "pygments_lexer": "ipython3",
   "version": "3.7.3"
  }
 },
 "nbformat": 4,
 "nbformat_minor": 2
}
